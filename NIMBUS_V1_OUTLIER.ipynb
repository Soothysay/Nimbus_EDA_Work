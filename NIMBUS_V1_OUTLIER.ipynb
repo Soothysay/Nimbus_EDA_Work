{
  "nbformat": 4,
  "nbformat_minor": 0,
  "metadata": {
    "colab": {
      "name": "NIMBUS_V1_OUTLIER.ipynb",
      "provenance": [],
      "collapsed_sections": [],
      "authorship_tag": "ABX9TyNq2hKziafvx664s/zX4atQ"
    },
    "kernelspec": {
      "name": "python3",
      "display_name": "Python 3"
    }
  },
  "cells": [
    {
      "cell_type": "markdown",
      "metadata": {
        "id": "6AmMeJLO6LUo"
      },
      "source": [
        "# MAHALANOBIS DISTANCE (MULTIVARIATE OUTLIERS):"
      ]
    },
    {
      "cell_type": "code",
      "metadata": {
        "id": "YZ29CmJFux30"
      },
      "source": [
        "# x,y=mahalanobis(df,['AVERAGE_EMI','AVERAGE_SAVINGS_BALANCE','AVERAGE_VEHICLE_COST'])\n",
        "def mahalanobis(df,fets):\n",
        "  import numpy as np\n",
        "  import scipy as sp\n",
        "  from scipy.stats import chi2\n",
        "  x=df[fets]\n",
        "  #print(np.mean(x))\n",
        "  xmean1=x-np.mean(x)\n",
        "  xmean=xmean1.fillna(0)\n",
        "  x=x.fillna(0)\n",
        "  cov=np.cov(x.values.T)\n",
        "  #print(cov)\n",
        "  inv_covmat = np.linalg.inv(cov)\n",
        "  left_term = np.dot(xmean, inv_covmat)\n",
        "  mahal = np.dot(left_term, xmean.T)\n",
        "  dist=list(mahal.diagonal())\n",
        "  pval=list(1 - chi2.cdf(dist, 2))\n",
        "  #print(pval)\n",
        "  val=float (input('ENTER THRESHOLD SIGNIFICANCE LEVEL VALUE:'))\n",
        "  idx=list()\n",
        "  for i in range(len(pval)):\n",
        "    if (pval[i]<val):\n",
        "      idx.append(i)\n",
        "  for fet in fets:\n",
        "    outlier_scatter(x,fet,idx)\n",
        "  desc_stat(x)\n",
        "  return idx,fets"
      ],
      "execution_count": 2,
      "outputs": []
    },
    {
      "cell_type": "markdown",
      "metadata": {
        "id": "npPtDrk96V_n"
      },
      "source": [
        "# MULTIVARIATE TABLE"
      ]
    },
    {
      "cell_type": "code",
      "metadata": {
        "id": "Nyf71UiwfRDW"
      },
      "source": [
        "def desc_stat(df):\n",
        "    import pandas as pd\n",
        "    from tabulate import tabulate\n",
        "    from prettytable import PrettyTable\n",
        "    from termcolor import cprint\n",
        "    import statistics\n",
        "    cprint('SUMMARY STATISTICS : ', attrs=['bold'])\n",
        "    print()\n",
        "    features=df.columns\n",
        "    sum_stats=pd.DataFrame(columns=features)\n",
        "    #sum_stats=df.describe(include='all')\n",
        "    #sum_stats.loc['DATATYPE'] = df.dtypes\n",
        "    #sum_stats.loc['MISSING VALUES']= df.isna().sum()\n",
        "    #sum_stats.loc['NUMBER OF ZEROS']=df.isin([0]).sum()\n",
        "    #sum_stats.loc['COUNT']= df.count()\n",
        "    #sum_stats.loc['UNIQUE']= df.nunique()\n",
        "    sum_stats.loc['MEAN']= df.mean()\n",
        "    sum_stats.loc['STANDARD DEVIATION']= df.std()\n",
        "    sum_stats.loc['VARIANCE']=df.var()\n",
        "    #sum_stats.loc['MAX']= df.max()\n",
        "    #sum_stats.loc['MIN']= df.min()\n",
        "    #sum_stats.loc['MODE']=df.mode(axis=1)\n",
        "    sum_stats.loc['MEDIAN']= df.median()\n",
        "    #sum_stats.loc['SKEWNESS'] =df.skew()\n",
        "    #sum_stats.loc['KURTOSIS'] =df.kurtosis()\n",
        "    #sum_stats.loc['5%']=df.quantile(0.05)\n",
        "    #sum_stats.loc['10%']=df.quantile(0.10)\n",
        "    #sum_stats.loc['15%']=df.quantile(0.15)\n",
        "    #sum_stats.loc['20%']=df.quantile(0.20)\n",
        "    #sum_stats.loc['25%']=df.quantile(0.25)\n",
        "    #sum_stats.loc['30%']=df.quantile(0.30)\n",
        "    #sum_stats.loc['35%']=df.quantile(0.35)\n",
        "    #sum_stats.loc['40%']=df.quantile(0.40)\n",
        "    #sum_stats.loc['45%']=df.quantile(0.45)\n",
        "    #sum_stats.loc['50%']=df.quantile(0.50)\n",
        "    #sum_stats.loc['55%']=df.quantile(0.55)\n",
        "    #sum_stats.loc['60%']=df.quantile(0.60)\n",
        "    #sum_stats.loc['65%']=df.quantile(0.65)\n",
        "    #sum_stats.loc['70%']=df.quantile(0.70)\n",
        "    #sum_stats.loc['75%']=df.quantile(0.75)\n",
        "    #sum_stats.loc['80%']=df.quantile(0.80)\n",
        "    #sum_stats.loc['85%']=df.quantile(0.85)\n",
        "    #sum_stats.loc['90%']=df.quantile(0.90)\n",
        "    #sum_stats.loc['95%']=df.quantile(0.95)\n",
        "    d=sum_stats.T\n",
        "    display(d)"
      ],
      "execution_count": 6,
      "outputs": []
    },
    {
      "cell_type": "markdown",
      "metadata": {
        "id": "HXysEmQj6cHw"
      },
      "source": [
        "# Z SCORE: UNIVARIATE"
      ]
    },
    {
      "cell_type": "code",
      "metadata": {
        "id": "doK7TwxmAASt"
      },
      "source": [
        "def z_score(df,fet):\n",
        "    import numpy as np\n",
        "    import pandas as pd\n",
        "    import plotly.express as px\n",
        "    outliers=[] \n",
        "    idx=[]\n",
        "    fets=[]\n",
        "    fets.append(fet)\n",
        "    threshold=float(input('ENTER THRESHOLD VALUE:'))\n",
        "    mean = float(df[fet].mean())\n",
        "    #print(mean)\n",
        "    std =float(df[fet].std())\n",
        "    #print(std)\n",
        "    z=[]\n",
        "    for id, y in df[fet].iteritems():\n",
        "        z_score= (y - mean)/std\n",
        "        z.append(z_score)\n",
        "        if np.abs(z_score) > threshold:\n",
        "            outliers.append(y)\n",
        "            idx.append(id)\n",
        "    outlier_scatter(df,fet,idx) \n",
        "    data={'VALUE':df[fet],\n",
        "          'Z-SCORE': z}\n",
        "    df2=pd.DataFrame(data,columns=['VALUE','Z-SCORE'])\n",
        "    display(df2)\n",
        "    desc_stat_uni(df,[fet])\n",
        "    return idx,fets"
      ],
      "execution_count": 15,
      "outputs": []
    },
    {
      "cell_type": "markdown",
      "metadata": {
        "id": "tZGvAVNa6gq1"
      },
      "source": [
        "# UNIVARIATE STATS TABLE"
      ]
    },
    {
      "cell_type": "code",
      "metadata": {
        "id": "4ecb3UNpie7D"
      },
      "source": [
        "def desc_stat_uni(df,features):\n",
        "    import pandas as pd\n",
        "    from tabulate import tabulate\n",
        "    from prettytable import PrettyTable\n",
        "    from termcolor import cprint\n",
        "    import statistics\n",
        "    cprint('SUMMARY STATISTICS : ', attrs=['bold'])\n",
        "    print()\n",
        "    #features=df.columns\n",
        "    sum_stats=pd.DataFrame(columns=features)\n",
        "    #sum_stats=df.describe(include='all')\n",
        "    #sum_stats.loc['DATATYPE'] = df.dtypes\n",
        "    #sum_stats.loc['MISSING VALUES']= df.isna().sum()\n",
        "    #sum_stats.loc['NUMBER OF ZEROS']=df.isin([0]).sum()\n",
        "    #sum_stats.loc['COUNT']= df.count()\n",
        "    #sum_stats.loc['UNIQUE']= df.nunique()\n",
        "    sum_stats.loc['MEAN']= df.mean()\n",
        "    sum_stats.loc['STANDARD DEVIATION']= df.std()\n",
        "    sum_stats.loc['VARIANCE']=df.var()\n",
        "    #sum_stats.loc['MAX']= df.max()\n",
        "    #sum_stats.loc['MIN']= df.min()\n",
        "    #sum_stats.loc['MODE']=df.mode(axis=1)\n",
        "    sum_stats.loc['MEDIAN']= df.median()\n",
        "    #sum_stats.loc['SKEWNESS'] =df.skew()\n",
        "    #sum_stats.loc['KURTOSIS'] =df.kurtosis()\n",
        "    #sum_stats.loc['5%']=df.quantile(0.05)\n",
        "    #sum_stats.loc['10%']=df.quantile(0.10)\n",
        "    #sum_stats.loc['15%']=df.quantile(0.15)\n",
        "    #sum_stats.loc['20%']=df.quantile(0.20)\n",
        "    #sum_stats.loc['25%']=df.quantile(0.25)\n",
        "    #sum_stats.loc['30%']=df.quantile(0.30)\n",
        "    #sum_stats.loc['35%']=df.quantile(0.35)\n",
        "    #sum_stats.loc['40%']=df.quantile(0.40)\n",
        "    #sum_stats.loc['45%']=df.quantile(0.45)\n",
        "    #sum_stats.loc['50%']=df.quantile(0.50)\n",
        "    #sum_stats.loc['55%']=df.quantile(0.55)\n",
        "    #sum_stats.loc['60%']=df.quantile(0.60)\n",
        "    #sum_stats.loc['65%']=df.quantile(0.65)\n",
        "    #sum_stats.loc['70%']=df.quantile(0.70)\n",
        "    #sum_stats.loc['75%']=df.quantile(0.75)\n",
        "    #sum_stats.loc['80%']=df.quantile(0.80)\n",
        "    #sum_stats.loc['85%']=df.quantile(0.85)\n",
        "    #sum_stats.loc['90%']=df.quantile(0.90)\n",
        "    #sum_stats.loc['95%']=df.quantile(0.95)\n",
        "    #d=sum_stats.T\n",
        "    display(sum_stats)"
      ],
      "execution_count": 12,
      "outputs": []
    },
    {
      "cell_type": "markdown",
      "metadata": {
        "id": "6EIUVhkn6lxb"
      },
      "source": [
        "# MODIFIED Z SCORE: UNIVARIATE"
      ]
    },
    {
      "cell_type": "code",
      "metadata": {
        "id": "NKl_VDOIAJOK"
      },
      "source": [
        "# x,y=modified_zscore(df,'AVERAGE_EMI')\n",
        "def modified_zscore(df,fet):\n",
        "    import numpy as np\n",
        "    import pandas as pd\n",
        "    import plotly.express as px\n",
        "    outliers = []\n",
        "    idx=[]\n",
        "    med_abs_dev=[]\n",
        "    fets=[]\n",
        "    fets.append(fet)\n",
        "    threshold=float(input('ENTER THRESHOLD VALUE:'))\n",
        "    med=df[fet].median()\n",
        "    #display(med)\n",
        "    z=[]\n",
        "    for id,i in df[fet].iteritems():\n",
        "        med_abs_dev.append(np.abs(i - med))\n",
        "    med_abs_dev = [incom for incom in med_abs_dev if str(incom) != 'nan']\n",
        "    MAD=np.median(med_abs_dev)\n",
        "    #print(MAD)\n",
        "    for id,y in df[fet].iteritems():\n",
        "        med_z_score=(0.6745*(y-med))/MAD\n",
        "        #display(med_z_score)\n",
        "        z.append(med_z_score)\n",
        "        if med_z_score > threshold:\n",
        "            outliers.append(y)\n",
        "            idx.append(id)    \n",
        "    outlier_scatter(df,fet,idx)\n",
        "    #print(z)\n",
        "    data={'VALUE':df[fet],\n",
        "          'MODIFIED Z-SCORE': z}\n",
        "    df2=pd.DataFrame(data,columns=['VALUE','MODIFIED Z-SCORE'])\n",
        "    display(df2)\n",
        "    desc_stat_uni(df,[fet])\n",
        "    return idx, fets"
      ],
      "execution_count": 17,
      "outputs": []
    },
    {
      "cell_type": "markdown",
      "metadata": {
        "id": "mVzfhBrX6wrG"
      },
      "source": [
        "# SCATTER PLOT"
      ]
    },
    {
      "cell_type": "code",
      "metadata": {
        "id": "vYkJt6etAN3W"
      },
      "source": [
        "def outlier_scatter(df,fet,idx):\n",
        "  import numpy as np\n",
        "  import pandas as pd\n",
        "  import plotly.express as px\n",
        "  x= list ()\n",
        "  y= list ()\n",
        "  z= list ()\n",
        "  for i in range(df.shape[0]):\n",
        "    x.append(i+1)\n",
        "    y.append(float(df.loc[i,fet]))\n",
        "    if i in idx:\n",
        "      z.append('Outlier')\n",
        "    else:\n",
        "      z.append('Not Outlier')\n",
        "  df1={'Observation Number': x, 'Value': y, 'Status': z}\n",
        "  fig=px.scatter(df1, \n",
        "                 x='Observation Number',\n",
        "                 y='Value', \n",
        "                 color='Status',\n",
        "                 opacity=1,# Change if needed\n",
        "                 color_discrete_map={\"Outlier\":'#bb2205',\n",
        "                                     \"Not Outlier\":'#a8dda8'} #Colour Codes\n",
        "                 )\n",
        "  fig.update_layout({'plot_bgcolor': 'rgba(0, 0, 0, 0)',\n",
        "                     'paper_bgcolor': 'rgba(0, 0, 0, 0)',})\n",
        "  fig.update_layout(title_text=\"SCATTER PLOT : {} \".format(fet))\n",
        "  fig.show()"
      ],
      "execution_count": 4,
      "outputs": []
    },
    {
      "cell_type": "markdown",
      "metadata": {
        "id": "qXLGbNqF62W3"
      },
      "source": [
        "# INTER-QUARTILE RANGE: UNIVARIATE"
      ]
    },
    {
      "cell_type": "code",
      "metadata": {
        "id": "FXpg_DGfATcG"
      },
      "source": [
        "# x,y=iqr(df,'AVERAGE_ELECTRICITY_BILL')\n",
        "def iqr(df,fet):\n",
        "    import numpy as np\n",
        "    import matplotlib.pyplot as plt\n",
        "    \n",
        "    anomalies = []\n",
        "    idx=[]\n",
        "    fets=[]\n",
        "    fets.append(fet)\n",
        "    d=df[fet].sort_values()\n",
        "    q1 = d.quantile(0.25)\n",
        "    q3 = d.quantile(0.75)\n",
        "    iqr=q3-q1\n",
        "    lower_limit  = q1-(1.5*iqr)\n",
        "    upper_limit = q3+(1.5*iqr)\n",
        "    print(\"LOWER LIMIT : \",lower_limit)\n",
        "    print(\"UPPER LIMIT : \",upper_limit)\n",
        "    # Generate outliers\n",
        "    for id, outlier in df[fet].iteritems():\n",
        "        if outlier > upper_limit or outlier < lower_limit:\n",
        "            anomalies.append(outlier)\n",
        "            idx.append(id)\n",
        "    outlier_scatter(df,fet,idx)\n",
        "    box_plot(df,fet) \n",
        "    desc_stat_uni(df,[fet])\n",
        "    return idx,fets"
      ],
      "execution_count": 20,
      "outputs": []
    },
    {
      "cell_type": "markdown",
      "metadata": {
        "id": "W__TKRlO68v8"
      },
      "source": [
        "# BOX PLOT FOR IQR"
      ]
    },
    {
      "cell_type": "code",
      "metadata": {
        "id": "u9Xt-TPFAUQ1"
      },
      "source": [
        "def box_plot(df,fet):\n",
        "    from plotly.offline import iplot\n",
        "    import plotly.graph_objs as go\n",
        "    trace = go.Box(\n",
        "                y=df[fet],\n",
        "                boxpoints='suspectedoutliers', # only outliers\n",
        "                #boxpoints='all', # can also be outliers, or suspectedoutliers, or False\n",
        "                #pointpos=-1.8, # relative position of points wrt box\n",
        "                name=fet,\n",
        "                boxmean='sd',# represent mean and standard deviation\n",
        "                marker = dict(color = 'rgb(12, 128, 140)')\n",
        "              )\n",
        "    data = [trace]\n",
        "    layout = go.Layout(\n",
        "                   title=\"BOX PLOT : {} \".format(fet),\n",
        "                   #xaxis=dict(title=fet),\n",
        "                   yaxis=dict( title= fet)\n",
        "                   )\n",
        "    fig = go.Figure(data=data, layout=layout)\n",
        "    iplot(fig)"
      ],
      "execution_count": 19,
      "outputs": []
    },
    {
      "cell_type": "markdown",
      "metadata": {
        "id": "TvXv6a6g7AgX"
      },
      "source": [
        "# CALLING FUNCTION"
      ]
    },
    {
      "cell_type": "code",
      "metadata": {
        "id": "AAAseDw7AU0P"
      },
      "source": [
        "def outlier_call(df,fets):\n",
        "    import pandas as pd\n",
        "    while True:\n",
        "        print('CHOOSE A METHOD YOU WANT TO USE : ')\n",
        "        print('1.Z-SCORE','\\n2.MODIFIED Z-SCORE','\\n3.INTER QUARTILE RANGE','\\n4. MAHALANOBIS DISTANCE')\n",
        "        i=int(input('ENTER THE NUMBER TO CHOOSE A METHODOLOGY (1 TO 5) \\nYOU CAN CHOOSE ONLY ONE METHOD : '))\n",
        "        idx=[]\n",
        "        fet=[]\n",
        "        print('FEATURES AVAILABLE FOR ANALYSIS : ')\n",
        "        print(fets)\n",
        "        if i== 1:\n",
        "            fet=input('ENTER A FEATURE FOR Z-SCORE ANALYSIS:')\n",
        "            idx,fet=z_score(df,fet)\n",
        "        elif i== 2:\n",
        "            fet=input('ENTER A FEATURE FOR MODIFIED Z-SCORE ANALYSIS:')\n",
        "            idx,fet=modified_zscore(df,fet)\n",
        "        elif i== 3:\n",
        "            fet=input('ENTER A FEATURE FOR INTER_QUARTILE RANGE ANALYSIS:')\n",
        "            idx,fet=iqr(df,fet)\n",
        "        elif i== 4:\n",
        "            feat=input('ENTER FEATURES FOR MAHALANOBIS DISTANCE ANALYSIS (COMMA SEPERATED):')\n",
        "            fet=feat.split(',')\n",
        "            idx,fet=mahalanobis(df,fet)\n",
        "        save=input('SAVE? (Y/N)')\n",
        "        if save=='Y' or save=='y':\n",
        "            break\n",
        "        print(fet)\n",
        "    return idx,fet\n",
        "\n",
        "\n",
        "def outlier(df):\n",
        "    fets=list (df.columns)\n",
        "    numcol= list ()\n",
        "    for fet in fets:\n",
        "        if df[fet].dtype !='O':\n",
        "            numcol.append(fet)\n",
        "    index=[]\n",
        "    feature=[]\n",
        "    while True:\n",
        "        print('OUTLIER DETECTION:')\n",
        "        idx,fets=outlier_call(df, numcol)\n",
        "        print(numcol)\n",
        "        print(fets)\n",
        "        for i in fets:\n",
        "          try:\n",
        "            numcol.remove(i)\n",
        "          except ValueError:\n",
        "            pass\n",
        "        feature=list(set(feature+fets))\n",
        "        index=list(set(index+idx))\n",
        "        ex=input('EXIT? (Y/N)')\n",
        "        if ex=='Y' or ex=='y':\n",
        "          break\n",
        "    index.sort()\n",
        "    return index,feature"
      ],
      "execution_count": 24,
      "outputs": []
    },
    {
      "cell_type": "markdown",
      "metadata": {
        "id": "GgyFMMEq7KnR"
      },
      "source": [
        "# TREATMENT OF OUTLIERS"
      ]
    },
    {
      "cell_type": "code",
      "metadata": {
        "id": "THlcbjTpjIW6"
      },
      "source": [
        "#REMOVE OUTLIERS\n",
        "def drop_outliers(df,idx):\n",
        "    import numpy as np\n",
        "    import pandas as pd\n",
        "    new_df=df.drop(idx)\n",
        "    return new_df\n",
        "\n",
        "#%%\n",
        "#ASSIGN NEW VALUES USING MEAN\n",
        "def impute_mean_outliers(df,fets,index):\n",
        "    import numpy as np\n",
        "    indices = index\n",
        "    #fet=fets\n",
        "    for fet in fets:\n",
        "        df.loc[indices,fet] = np.NaN\n",
        "        mean=df[fet].mean()\n",
        "        df[fet]=df[fet].fillna(df[fet].mean())\n",
        "    return df\n",
        "#%%\n",
        "#ASSIGN NEW VALUES USING MEDIAN\n",
        "def impute_median_outliers(df,fets,index):\n",
        "    import numpy as np\n",
        "    indices = index\n",
        "    for fet in fets:\n",
        "        df.loc[indices,fet] = np.NaN\n",
        "        mean=df[fet].mean()\n",
        "        df[fet]=df[fet].fillna(df[fet].median())\n",
        "    return df  \n",
        "#%%\n",
        "#MOVING AVERAGE TO DEAL WITH OUTLIERS\n",
        "def ma_impute_outlier(df,fets,index):\n",
        "    import pandas as pd\n",
        "    import numpy as np\n",
        "    indices = index\n",
        "    fet=fets\n",
        "    df.loc[indices,fet] = np.NaN\n",
        "    mean=df[fet].mean()\n",
        "    df[fet]=df[fet].fillna(df[fet].rolling(3,center=True,min_periods=1).mean())\n",
        "    return df\n",
        "#%%\n",
        "#Percentile Capping\n",
        "def clip(df,fets=None,lower=None,upper=None):\n",
        "    import numpy as np\n",
        "    numeric_cols=df.select_dtypes(np.number).columns\n",
        "    numeric_data=df[numeric_cols]\n",
        "    if lower is None:\n",
        "        i=input('WOULD YOU LIKE TO SET THE LOWER LIMIT (Y/N)? : ')\n",
        "        if i=='Y':\n",
        "            l=input('ENTER A LOWER LIMIT : ')\n",
        "            lower=int(l)\n",
        "        else:\n",
        "            lower=numeric_data.quantile(0.01)\n",
        "    if upper is None:    \n",
        "        i=input('WOULD YOU LIKE TO SET THE UPPER LIMIT (Y/N)? : ')\n",
        "        if i=='Y':\n",
        "            u=input('ENTER A UPPER LIMIT : ')\n",
        "            upper=int(u)\n",
        "        else:\n",
        "            upper=numeric_data.quantile(0.99)\n",
        "    clipped_data=df.clip(lower,upper,axis=1)\n",
        "    return clipped_data    \n",
        "#%%\n",
        "#Fill with IQR\n",
        "def FILL_IQR(df):\n",
        "    fets=input(\"Enter the column name\")\n",
        "    Q1 = df[fets].quantile(0.25)\n",
        "    Q3 = df[fets].quantile(0.75)\n",
        "    IQR = Q3 - Q1\n",
        "    df.loc[df[fets] < (Q1 - 1.5 * IQR),fets]=Q1 \n",
        "    df.loc[df[fets] > (Q3 + 1.5 * IQR),fets] =Q3\n",
        "    return df\n",
        "\n",
        "#%%\n",
        "#Fill with user input\n",
        "def user_input(df,fets,index,inp):\n",
        "    import pandas as pd \n",
        "    import numpy as np\n",
        "    fets=input(\"Enter the column name\")\n",
        "    #inp=input(\"enter the value\")\n",
        "    df.loc[index, fets] = inp\n",
        "    return df\n",
        "#%%\n",
        "#Main Function\n",
        "def deal_with_outliers(df,fets,index):\n",
        "        import pandas as pd\n",
        "        print('CHOOSE THE METHOD YOU WANT TO USE : ')\n",
        "        print('1.REMOVE OUTLIERS WITH Z-SCORE','\\n2.ASSIGN NEW VALUE WITH MEAN','\\n3.ASSIGN NEW VALUE WITH MEDIAN',\n",
        "              '\\n4.ASSIGN NEW VALUE WITH MOVING AVERAGE','\\n5.CAP/CLIP THE VALUES','\\n6.FILL with IQR','\\n7.user input')\n",
        "        j=int(input('ENTER THE NUMBER TO CHOOSE A METHODOLOGY (1 TO 8) \\nYOU CAN CHOOSE ONLY ONE METHOD : '))\n",
        "        #n2=n2.split(\",\");\n",
        "        #r2 = list(map(int, n2))\n",
        "        #for j in r2:\n",
        "        if j==1:\n",
        "                new_df=drop_outliers(df,index)\n",
        "        elif j==2:\n",
        "                new_df=impute_mean_outliers(df,fets,index)\n",
        "        elif j==3:\n",
        "                new_df=impute_median_outliers(df,fets,index)\n",
        "        elif j==4:\n",
        "                new_df=ma_impute_outlier(df,fets,index)\n",
        "        elif j==5:\n",
        "                new_df=clip(df,fets=None,lower=None,upper=None) \n",
        "        elif j==6:\n",
        "                new_df=FILL_IQR(df)\n",
        "        elif j==7:\n",
        "                new_df=user_input(df,fets,index,inp)\n",
        "        return new_df\n"
      ],
      "execution_count": 26,
      "outputs": []
    }
  ]
}