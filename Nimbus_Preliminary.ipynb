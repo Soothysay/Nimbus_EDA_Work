{
  "nbformat": 4,
  "nbformat_minor": 0,
  "metadata": {
    "colab": {
      "name": "Nimbus-EDA.ipynb",
      "provenance": [],
      "collapsed_sections": [],
      "toc_visible": true,
      "authorship_tag": "ABX9TyP4VBDuVFKFcycojKsgfUEx"
    },
    "kernelspec": {
      "name": "python3",
      "display_name": "Python 3"
    }
  },
  "cells": [
    {
      "cell_type": "markdown",
      "metadata": {
        "id": "LWEZZ4A0EZo6"
      },
      "source": [
        "# DATA INPUT"
      ]
    },
    {
      "cell_type": "code",
      "metadata": {
        "id": "ar7i7r4LCGI2"
      },
      "source": [
        "def input_data():\n",
        "    import pandas as pd\n",
        "    path=input('CHOOSE THE DATA FILE PATH : ')\n",
        "    df=pd.read_csv(path)\n",
        "    #df=df.sample(frac=0.01, replace=True, random_state=1)\n",
        "    display(df.head(10))\n",
        "    return df"
      ],
      "execution_count": null,
      "outputs": []
    },
    {
      "cell_type": "markdown",
      "metadata": {
        "id": "DAN3HGwYEhgR"
      },
      "source": [
        "# DESCRIPTIVE STATISTICS TABLE"
      ]
    },
    {
      "cell_type": "code",
      "metadata": {
        "id": "nqc5Rm7kCY3j"
      },
      "source": [
        "def desc_stat(df):\n",
        "    import pandas as pd\n",
        "    from tabulate import tabulate\n",
        "    from prettytable import PrettyTable\n",
        "    from termcolor import cprint\n",
        "    import statistics\n",
        "    cprint('SUMMARY STATISTICS : ', attrs=['bold'])\n",
        "    print()\n",
        "    features=df.columns\n",
        "    sum_stats=pd.DataFrame(columns=features)\n",
        "    #sum_stats=df.describe(include='all')\n",
        "    sum_stats.loc['DATATYPE'] = df.dtypes\n",
        "    sum_stats.loc['MISSING VALUES']= df.isna().sum()\n",
        "    sum_stats.loc['NUMBER OF ZEROS']=df.isin([0]).sum()\n",
        "    sum_stats.loc['COUNT']= df.count()\n",
        "    sum_stats.loc['UNIQUE']= df.nunique()\n",
        "    sum_stats.loc['MEAN']= df.mean()\n",
        "    sum_stats.loc['STANDARD DEVIATION']= df.std()\n",
        "    sum_stats.loc['VARIANCE']=df.var()\n",
        "    sum_stats.loc['MAX']= df.max()\n",
        "    sum_stats.loc['MIN']= df.min()\n",
        "    #sum_stats.loc['MODE']=df.mode(axis=1)\n",
        "    sum_stats.loc['MEDIAN']= df.median()\n",
        "    sum_stats.loc['SKEWNESS'] =df.skew()\n",
        "    sum_stats.loc['KURTOSIS'] =df.kurtosis()\n",
        "    sum_stats.loc['5%']=df.quantile(0.05)\n",
        "    sum_stats.loc['10%']=df.quantile(0.10)\n",
        "    sum_stats.loc['15%']=df.quantile(0.15)\n",
        "    sum_stats.loc['20%']=df.quantile(0.20)\n",
        "    sum_stats.loc['25%']=df.quantile(0.25)\n",
        "    sum_stats.loc['30%']=df.quantile(0.30)\n",
        "    sum_stats.loc['35%']=df.quantile(0.35)\n",
        "    sum_stats.loc['40%']=df.quantile(0.40)\n",
        "    sum_stats.loc['45%']=df.quantile(0.45)\n",
        "    sum_stats.loc['50%']=df.quantile(0.50)\n",
        "    sum_stats.loc['55%']=df.quantile(0.55)\n",
        "    sum_stats.loc['60%']=df.quantile(0.60)\n",
        "    sum_stats.loc['65%']=df.quantile(0.65)\n",
        "    sum_stats.loc['70%']=df.quantile(0.70)\n",
        "    sum_stats.loc['75%']=df.quantile(0.75)\n",
        "    sum_stats.loc['80%']=df.quantile(0.80)\n",
        "    sum_stats.loc['85%']=df.quantile(0.85)\n",
        "    sum_stats.loc['90%']=df.quantile(0.90)\n",
        "    sum_stats.loc['95%']=df.quantile(0.95)\n",
        "    d=sum_stats.T\n",
        "    display(d)"
      ],
      "execution_count": null,
      "outputs": []
    },
    {
      "cell_type": "markdown",
      "metadata": {
        "id": "uUvwIkObErNs"
      },
      "source": [
        "# SORTING BY COLUMNS"
      ]
    },
    {
      "cell_type": "code",
      "metadata": {
        "id": "tGIMc2bpCvq3"
      },
      "source": [
        "def sort_val(df):\n",
        "    fets=input('ENTER THE FEATURES TO SORT DATA (COMMA SEPARATED) : ')\n",
        "    print('1. ASCENDING.')\n",
        "    print('2. DESCENDING.')\n",
        "    x=int(input('Choose Appropriate Option:'))\n",
        "    if (x==1):\n",
        "      b=True\n",
        "    if (x==2):\n",
        "      b=False\n",
        "    fets=fets.split(\",\")\n",
        "    df2=df.sort_values(by=fets,ascending=b)\n",
        "    display(df2.head(10))\n",
        "    return df2"
      ],
      "execution_count": null,
      "outputs": []
    },
    {
      "cell_type": "markdown",
      "metadata": {
        "id": "tND0VKd0GaIA"
      },
      "source": [
        "# DROP COLUMNS"
      ]
    },
    {
      "cell_type": "markdown",
      "metadata": {
        "id": "1ZaRg-6UGlp4"
      },
      "source": [
        "1. DROP WITH CUSTOM COLUMN NAME "
      ]
    },
    {
      "cell_type": "code",
      "metadata": {
        "id": "u3JvnOlXGtPu"
      },
      "source": [
        "def drop_col(df):\n",
        "    fets=input('ENTER THE COLUMNS TO DROP (COMMA SEPARATED) : ')\n",
        "    if fets!='0':\n",
        "        fets=fets.split(\",\")\n",
        "        df2=df.drop(columns=fets)\n",
        "    return df2"
      ],
      "execution_count": null,
      "outputs": []
    },
    {
      "cell_type": "markdown",
      "metadata": {
        "id": "dpjqrsroIqaE"
      },
      "source": [
        "DELETE COLUMNS WITH CUSTOM SET OF THRESHOLD CUTOFF MISSING VALUES"
      ]
    },
    {
      "cell_type": "code",
      "metadata": {
        "id": "tWWB1I4WIo7v"
      },
      "source": [
        "def threshold_drop(df):\n",
        "  threshold=float (input ('Enter threshold percentage to delete (in numerical form): '))\n",
        "  #print(threshold)\n",
        "  col=list(df.columns)\n",
        "  rows=len(df.index)\n",
        "  mval=0\n",
        "  for c in col:\n",
        "    df1=df[c]\n",
        "    mval=df1.isnull().sum()\n",
        "    #print(mval)\n",
        "    missing=(mval/rows)*100\n",
        "    #print(missing)\n",
        "    if (missing>threshold):\n",
        "      #print('Y')\n",
        "      df=df.drop(c, axis=1)\n",
        "  return df"
      ],
      "execution_count": null,
      "outputs": []
    },
    {
      "cell_type": "markdown",
      "metadata": {
        "id": "FCnoQcA3ayn7"
      },
      "source": [
        "DELETE ROWS WITH USER INPUT"
      ]
    },
    {
      "cell_type": "code",
      "metadata": {
        "id": "mV2oHcPWax68"
      },
      "source": [
        "def row_drop(df):\n",
        "  print ('The Total Number of Rows are: ')\n",
        "  print(len(df.index))\n",
        "  droprow=input('Enter Row Number to Drop (Comma Seperated): ')\n",
        "  if droprow!='A':\n",
        "    droprow=list (droprow.split(\",\"))\n",
        "    for i in range(len(droprow)):\n",
        "      droprow[i]=(int (droprow[i]))+1 \n",
        "    df2=df.drop(droprow)\n",
        "  return df2"
      ],
      "execution_count": null,
      "outputs": []
    },
    {
      "cell_type": "markdown",
      "metadata": {
        "id": "wc-zg7JCifEy"
      },
      "source": [
        "# PLOTTING"
      ]
    },
    {
      "cell_type": "code",
      "metadata": {
        "id": "5AjPBedih_9T"
      },
      "source": [
        "def plot_call(df,fet):\n",
        "  if df[fet].dtype=='int64':\n",
        "    histogram_plot(df,fet)\n",
        "    box_plot(df,fet)\n",
        "  if df[fet].dtype=='float64':\n",
        "    histogram_plot(df,fet)\n",
        "    box_plot(df,fet)\n",
        "    #distribution_plot(df,fet)\n",
        "  if df[fet].dtype=='O':\n",
        "    count_plot(df,fet)\n",
        "    resp=input('ENTER RESPONSE COLUMN NAME')\n",
        "    pie_chart(df,fet, resp)\n",
        "  #if df[fet].dtype=='<M8[ns]':\n",
        "    #count_plot(df,fet)\n",
        "    #pie_chart(df,fet)"
      ],
      "execution_count": null,
      "outputs": []
    },
    {
      "cell_type": "markdown",
      "metadata": {
        "id": "PBLQdt1Gi_Hq"
      },
      "source": [
        "HISTOGRAM PLOT"
      ]
    },
    {
      "cell_type": "code",
      "metadata": {
        "id": "1nqBROCehtrr"
      },
      "source": [
        "def histogram_plot(df,fet):\n",
        "    from plotly.offline import iplot\n",
        "    import plotly.graph_objs as go\n",
        "    import plotly.express as px\n",
        "    trace = go.Histogram(\n",
        "                    x=df[fet],\n",
        "                    name=fet,  # name used in legend and hover labels\n",
        "                    marker=dict(color='rgba(165,0,38)')\n",
        "                    )\n",
        "    data = [trace]\n",
        "    layout = go.Layout(\n",
        "                   barmode='overlay',\n",
        "                   title=\"HISTOGRAM : {} \".format(fet),\n",
        "                   xaxis=dict(title=fet),\n",
        "                   yaxis=dict( title='COUNT')\n",
        "                   )\n",
        "    fig = go.Figure(data=data, layout=layout)\n",
        "    iplot(fig)    "
      ],
      "execution_count": null,
      "outputs": []
    },
    {
      "cell_type": "markdown",
      "metadata": {
        "id": "DVtCEKF7jvIS"
      },
      "source": [
        "BOX PLOT"
      ]
    },
    {
      "cell_type": "code",
      "metadata": {
        "id": "qTQuapDZhtrw"
      },
      "source": [
        "def box_plot(df,fet):\n",
        "    from plotly.offline import iplot\n",
        "    import plotly.graph_objs as go\n",
        "    trace = go.Box(\n",
        "                y=df[fet],\n",
        "                boxpoints='suspectedoutliers', # only outliers\n",
        "                #boxpoints='all', # can also be outliers, or suspectedoutliers, or False\n",
        "                #pointpos=-1.8, # relative position of points wrt box\n",
        "                name=fet,\n",
        "                boxmean='sd',# represent mean and standard deviation\n",
        "                marker = dict(color = 'rgb(12, 128, 140)')\n",
        "              )\n",
        "    data = [trace]\n",
        "    layout = go.Layout(\n",
        "                   title=\"BOX PLOT : {} \".format(fet),\n",
        "                   #xaxis=dict(title=fet),\n",
        "                   yaxis=dict( title= fet)\n",
        "                   )\n",
        "    fig = go.Figure(data=data, layout=layout)\n",
        "    iplot(fig)\n",
        "#box_plot(df,'A')    "
      ],
      "execution_count": null,
      "outputs": []
    },
    {
      "cell_type": "markdown",
      "metadata": {
        "id": "5DNB7o50j6BO"
      },
      "source": [
        "DISTRIBUTION PLOT"
      ]
    },
    {
      "cell_type": "code",
      "metadata": {
        "id": "jzwqXluAj8NW"
      },
      "source": [
        "def distribution_plot(df,fet):\n",
        "    import plotly.figure_factory as ff\n",
        "    import numpy as np\n",
        "    d=df[fet].fillna(0)\n",
        "    hist_data = [d]\n",
        "    group_labels = ['distplot'] # name of the dataset\n",
        "    fig = ff.create_distplot(hist_data, group_labels)\n",
        "    fig.update_layout(title_text=\"DISTRIBUTION PLOT : {} \".format(fet))\n",
        "    fig.show()   "
      ],
      "execution_count": null,
      "outputs": []
    },
    {
      "cell_type": "markdown",
      "metadata": {
        "id": "OXWllWy4kKTx"
      },
      "source": [
        "COUNT PLOT"
      ]
    },
    {
      "cell_type": "code",
      "metadata": {
        "id": "-yDu1BvWkMA8"
      },
      "source": [
        "def count_plot(df,fet):\n",
        "    from plotly.offline import iplot\n",
        "    import plotly.graph_objs as go\n",
        "    trace = go.Bar(\n",
        "                    x=df[fet].value_counts().keys().tolist(),\n",
        "                    y=df[fet].value_counts().tolist(),\n",
        "                    marker=dict(color='rgba(171, 50, 96, 0.6)')\n",
        "                    )\n",
        "    data = [trace]\n",
        "    layout = go.Layout(\n",
        "                   barmode='overlay',\n",
        "                   title=\"COUNT PLOT : {} \".format(fet),\n",
        "                   xaxis=dict(title=fet),\n",
        "                   yaxis=dict( title='COUNT')\n",
        "                   )\n",
        "    fig = go.Figure(data=data, layout=layout)\n",
        "    iplot(fig)"
      ],
      "execution_count": null,
      "outputs": []
    },
    {
      "cell_type": "markdown",
      "metadata": {
        "id": "6RfN07-nkNKu"
      },
      "source": [
        "PIE CHART"
      ]
    },
    {
      "cell_type": "code",
      "metadata": {
        "id": "vRp6ZX_DkQv5"
      },
      "source": [
        "def pie_chart(df,fet,response):\n",
        "    #import plotly.graph_objects as go\n",
        "    #from plotly.offline import iplot\n",
        "    #trace=go.Pie(labels=df[fet].value_counts().keys().tolist(),\n",
        "     #            values=df[fet].value_counts().tolist(),\n",
        "      #           textinfo='label+percent',\n",
        "       #          insidetextorientation='radial',\n",
        "        #         textposition='inside'\n",
        "         #       )\n",
        "    #layout = go.Layout(\n",
        "     #              title=\"PIE CHART : {} \".format(fet),\n",
        "      #             uniformtext_minsize=12,\n",
        "        #           )\n",
        "    #data=[trace]\n",
        "    #fig = go.Figure(data=data, layout=layout)\n",
        "    #iplot(fig)\n",
        "    import plotly.express as px\n",
        "    title_type = df.groupby(fet).agg('count')\n",
        "    type_labels = title_type[response].sort_values().index \n",
        "    type_counts = title_type[response].sort_values()\n",
        "    fig = px.pie(values= type_counts,names=type_labels)\n",
        "    fig.update_layout(title_text=\"PIE CHART : {} \".format(fet)) \n",
        "    fig.show()"
      ],
      "execution_count": null,
      "outputs": []
    },
    {
      "cell_type": "markdown",
      "metadata": {
        "id": "7_1U2BszQIaJ"
      },
      "source": [
        "# CALLING FUNCTION FOR PRELIMINARY STEPS"
      ]
    },
    {
      "cell_type": "code",
      "metadata": {
        "id": "R_oB0FcnMx_L"
      },
      "source": [
        "def module1():\n",
        "  from termcolor import cprint\n",
        "  cprint('PRELIMINARY STEPS: ', attrs=['bold'])\n",
        "  df=input_data()\n",
        "  choi=input('Do you Wish to See Descriptive Statistics? (Y/N): ')\n",
        "  if (choi=='Y') or (choi=='y'):\n",
        "    desc_stat(df)\n",
        "  choi=input('Do you Wish to See Plots? (Y/N): ')\n",
        "  if (choi=='Y') or (choi=='y'):\n",
        "    fets=input('ENTER THE COLUMNS TO PLOT (COMMA SEPARATED) : ')\n",
        "    if fets!='0':\n",
        "      fets=fets.split(\",\")\n",
        "    for fet in fets:\n",
        "      plot_call(df,fet)\n",
        "  choi=input('Do you Wish to Sort your data? (Y/N): ')\n",
        "  if (choi=='Y') or (choi=='y'):\n",
        "    dfsort=sort_val(df)\n",
        "    print('Choose the Dataset you With to use for further operations: (Enter appropriate number for choice): ')\n",
        "    print('1. Original Data')\n",
        "    print('2. Sorted Data')\n",
        "    choice=int(input())\n",
        "    if (choice==2):\n",
        "      df=dfsort\n",
        "  while (True):\n",
        "    choi= input('Do You wish to drop columns or rows? (Y/N): ')\n",
        "    if (choi=='Y') or (choi=='y'):\n",
        "      print('Enter the methodology:')\n",
        "      print('1. Delete Column with User given column name.')\n",
        "      print('2. Delete Column with User given Threshold Missing Value Percentage.')\n",
        "      print('3. Delete Row with User given row name.')\n",
        "      choice=int(input('Enter your choice: '))\n",
        "      if (choice==1):\n",
        "        df=drop_col(df)\n",
        "      if (choice==2):\n",
        "        df=threshold_drop(df)\n",
        "      if (choice==3):\n",
        "        df=row_drop(df)\n",
        "      choi=input('Do you Wish to See Descriptive Statistics? (Y/N): ')\n",
        "      if (choi=='Y') or (choi=='y'):\n",
        "        desc_stat(df)\n",
        "    if(choi=='N' or choi=='n'):\n",
        "      break\n",
        "  print('Step Complete')"
      ],
      "execution_count": null,
      "outputs": []
    }
  ]
}