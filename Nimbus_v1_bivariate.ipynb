{
  "nbformat": 4,
  "nbformat_minor": 0,
  "metadata": {
    "colab": {
      "name": "Nimbus_v1_bivariate.ipynb",
      "provenance": [],
      "collapsed_sections": [],
      "authorship_tag": "ABX9TyPf92QZLInUaDtkfTpDiW5Z"
    },
    "kernelspec": {
      "name": "python3",
      "display_name": "Python 3"
    }
  },
  "cells": [
    {
      "cell_type": "code",
      "metadata": {
        "id": "WumoLFA7SYHc"
      },
      "source": [
        "def heatmap_hist(df):\n",
        "  import pandas as pd\n",
        "  import numpy as np\n",
        "  fets=list (df.columns)\n",
        "  numcol= list ()\n",
        "  for fet in fets:\n",
        "    if df[fet].dtype !='O':\n",
        "      numcol.append(fet)\n",
        "  print('CHOOSE 2 COLUMNS FROM THE LIST (COMMA SEPERATED):')\n",
        "  print('THE OPTIONS ARE:')\n",
        "  print(numcol)\n",
        "  ch=input('ENTER:')\n",
        "  inputs=ch.split(',')\n",
        "  import plotly.express as px\n",
        "  fig=px.density_heatmap(df,\n",
        "                         x=inputs[0],\n",
        "                         y=inputs[1],\n",
        "                         marginal_x='histogram',\n",
        "                         marginal_y='histogram',\n",
        "                         color_continuous_scale=['red','green','blue','yellow','black'], #Change the colours with colour code\n",
        "                         width=1400,                   # figure width in pixels\n",
        "                         height=600,\n",
        "                         title='Plot',\n",
        "                         template='simple_white')\n",
        "  fig.show()"
      ],
      "execution_count": 6,
      "outputs": []
    },
    {
      "cell_type": "code",
      "metadata": {
        "id": "rIYklchaWYb3"
      },
      "source": [
        "def cat_hm_1(df,ncol1,ncol2,catcol):\n",
        "  import plotly.express as px\n",
        "  fig = px.density_heatmap(df, \n",
        "                           x=ncol1,\n",
        "                           y=ncol2, \n",
        "                           facet_col=catcol,\n",
        "                           color_continuous_scale=['red','green','blue','yellow','black'], #Change the colours with colour code\n",
        "                           width=1400,                   # figure width in pixels\n",
        "                           height=600,\n",
        "                           title='Plot',\n",
        "                           template='simple_white')\n",
        "  fig.show()"
      ],
      "execution_count": 5,
      "outputs": []
    },
    {
      "cell_type": "code",
      "metadata": {
        "id": "5GAjz4jm71MT"
      },
      "source": [
        "def cat_hm_2(df,ncol1,ncol2,catcol1,catcol2):\n",
        "  import plotly.express as px\n",
        "  fig = px.density_heatmap(df, \n",
        "                           x=ncol1,\n",
        "                           y=ncol2, \n",
        "                           facet_col=catcol2,\n",
        "                           facet_row=catcol1,\n",
        "                           color_continuous_scale=['red','green','blue','yellow','black'], #Change the colours with colour code\n",
        "                           width=1400,                   # figure width in pixels\n",
        "                           height=600,\n",
        "                           title='Plot',\n",
        "                           template='simple_white')\n",
        "  fig.show()"
      ],
      "execution_count": 4,
      "outputs": []
    },
    {
      "cell_type": "code",
      "metadata": {
        "id": "Owuj1vmf8GJE"
      },
      "source": [
        "def cat_hm_call(df):\n",
        "  import pandas as pd\n",
        "  import numpy as np\n",
        "  fets=list (df.columns)\n",
        "  catcol=list ()\n",
        "  numcol= list ()\n",
        "  for fet in fets:\n",
        "    if df[fet].dtype =='O' and len(np.unique(df[fet]))<16:\n",
        "      catcol.append(fet)\n",
        "    else:\n",
        "      numcol.append(fet)\n",
        "  print('CHOOSE TWO CONTINOUS COLUMN NAMES (COMMA SEPERATED):')\n",
        "  print('THE CHOICES ARE:')\n",
        "  print(numcol)\n",
        "  numfets=input('Enter:')\n",
        "  numfets=numfets.split(',')\n",
        "  if len(numfets)<2 or len(numfets)>2:\n",
        "    print('BAD INPUT')\n",
        "  else:\n",
        "    print('CHOOSE TWO CATEGORICAL COLUMN NAMES (COMMA SEPERATED):')\n",
        "    print('THE CHOICES ARE:')\n",
        "    print(catcol)\n",
        "    catfets=input('Enter:')\n",
        "    catfets=catfets.split(',')\n",
        "    if len(catfets)==1:\n",
        "      cat_hm_1(df,numfets[0],numfets[1],catfets[0])\n",
        "    if len(catfets)==2:\n",
        "      cat_hm_2(df,numfets[0],numfets[1],catfets[0],catfets[1])"
      ],
      "execution_count": 3,
      "outputs": []
    },
    {
      "cell_type": "code",
      "metadata": {
        "id": "y-s-sIfjDKAY"
      },
      "source": [
        "def d2_hist(df):\n",
        "  import plotly.express as px\n",
        "  import pandas as pd\n",
        "  import numpy as np\n",
        "  fets=list (df.columns)\n",
        "  catcol=list ()\n",
        "  numcol= list ()\n",
        "  for fet in fets:\n",
        "    if df[fet].dtype =='O' and len(np.unique(df[fet]))<16:\n",
        "      catcol.append(fet)\n",
        "    else:\n",
        "      numcol.append(fet)\n",
        "  print('CHOOSE A CONTINOUS COLUMN NAME:')\n",
        "  print('THE CHOICES ARE:')\n",
        "  print(numcol)\n",
        "  numfets=input('Enter:')\n",
        "  print('CHOOSE A CATEGORICAL COLUMN NAME:')\n",
        "  print('THE CHOICES ARE:')\n",
        "  print(catcol)\n",
        "  catfets=input('Enter:')\n",
        "  fig = px.histogram(df,\n",
        "                     x=numfets, \n",
        "                     color=catfets,\n",
        "                     marginal=\"rug\", # can be `box`, `violin`\n",
        "                     hover_data=df.columns)\n",
        "  fig.show()"
      ],
      "execution_count": 2,
      "outputs": []
    }
  ]
}