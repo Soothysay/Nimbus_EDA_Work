{
 "cells": [
  {
   "cell_type": "code",
   "execution_count": 1,
   "metadata": {},
   "outputs": [],
   "source": [
    "import pandas as pd\n",
    "from plotly.offline import iplot\n",
    "import plotly.graph_objs as go\n",
    "import plotly.express as px\n",
    "import numpy as np\n",
    "from tabulate import tabulate\n",
    "from prettytable import PrettyTable\n",
    "from termcolor import cprint\n",
    "import statistics\n",
    "import scipy.stats\n",
    "import string\n",
    "alphabet = string.ascii_letters+string.punctuation"
   ]
  },
  {
   "cell_type": "code",
   "execution_count": 2,
   "metadata": {},
   "outputs": [],
   "source": [
    "def histogram_plot(df,fet):\n",
    "    if (df.isnull().sum().sum())>0:\n",
    "        print('Error. Data Contains Missing Values. Please Do Missing value treatment to do this step.')\n",
    "    else:\n",
    "        if ((df[fet].dtype=='int64') or (df[fet].dtype=='float64') or (df[fet].dtype=='int32') or (df[fet].dtype=='float32')):\n",
    "            #from plotly.offline import iplot\n",
    "            #import plotly.graph_objs as go\n",
    "            #import plotly.express as px\n",
    "            trace = go.Histogram(\n",
    "                    x=df[fet],\n",
    "                    name=fet,  # name used in legend and hover labels\n",
    "                    marker=dict(color='#32E0C4')\n",
    "                    )\n",
    "            data = [trace]\n",
    "            layout = go.Layout(\n",
    "                   barmode='overlay',\n",
    "                   title=\"HISTOGRAM : {} \".format(fet),\n",
    "                   xaxis=dict(title=fet),\n",
    "                   yaxis=dict(title='COUNT')\n",
    "                   )\n",
    "            fig = go.Figure(data=data, layout=layout)\n",
    "            fig.update_layout({'plot_bgcolor': 'rgba(0,0,0,0)','paper_bgcolor' : 'rgba(0,0,0,0)'})\n",
    "            fig.update_layout(title_text=\"<b>HISTOGRAM<b> : {} \".format(fet), title_x=0.5)\n",
    "    \n",
    "            fig.update_xaxes(title_text='<b>' + fet +'<b>')\n",
    "            fig.update_yaxes(title_text='<b>COUNT<b>')\n",
    "            iplot(fig)\n",
    "        else:\n",
    "            print(\"Invalid column datatype\")"
   ]
  },
  {
   "cell_type": "code",
   "execution_count": 3,
   "metadata": {},
   "outputs": [],
   "source": [
    "def contour(df,fet):\n",
    "    if (df.isnull().sum().sum())>0:\n",
    "        print('Error. Data Contains Missing Values. Please Do Missing value treatment to do this step.')\n",
    "    else:\n",
    "        if ((df[fet].dtype=='int64') or (df[fet].dtype=='float64') or (df[fet].dtype=='int32') or (df[fet].dtype=='float32')):\n",
    "            #from plotly.offline import iplot\n",
    "            #import plotly.figure_factory as ff\n",
    "            #from plotly.figure_factory import create_2d_density\n",
    "            colorscale = ['#32E0C4', '#32E0C4', '#32E0C4', (1, 1, 0.2), (0.98,0.98,0.98)]\n",
    "            fig = ff.create_2d_density(x=df[fet].value_counts().keys().tolist(), y=df[fet].value_counts().tolist(),\n",
    "                               colorscale=colorscale,hist_color='#32E0C4', point_size=3)\n",
    "            fig.update_layout({'plot_bgcolor': 'rgba(0,0,0,0)','paper_bgcolor' : 'rgba(0,0,0,0)'})\n",
    "            fig.update_layout(title_text=\"<b>Contour Plot<b> : {} \".format(fet), title_x=0.5)\n",
    "            fig.update_xaxes(title_text='<b>' + fet +'<b>')\n",
    "            fig.update_yaxes(title_text='<b>COUNT<b>')\n",
    "            iplot(fig)\n",
    "        else:\n",
    "            print(\"Invalid column datatype\") "
   ]
  },
  {
   "cell_type": "code",
   "execution_count": 4,
   "metadata": {},
   "outputs": [],
   "source": [
    "#%%\n",
    "def count_plot(df,fet):\n",
    "    if (df.isnull().sum().sum())>0:\n",
    "        print('Error. Data Contains Missing Values. Please Do Missing value treatment to do this step.')\n",
    "    else:\n",
    "        if df[fet].dtype=='O':\n",
    "        #from plotly.offline import iplot\n",
    "        #import plotly.graph_objs as go\n",
    "            trace = go.Bar(\n",
    "                    x=df[fet].value_counts().tolist(),\n",
    "                    y=df[fet].value_counts().keys().tolist(),\n",
    "                    marker=dict(color='#32E0C4'),orientation='h'\n",
    "                    )\n",
    "            data = [trace]\n",
    "            layout = go.Layout(\n",
    "                   barmode='overlay',\n",
    "                   title=\"COUNT PLOT : {} \".format(fet),\n",
    "                   xaxis=dict(title=fet),\n",
    "                   yaxis=dict( title='COUNT')\n",
    "                   )\n",
    "            fig = go.Figure(data=data, layout=layout)\n",
    "            fig.update_layout({'plot_bgcolor': 'rgba(0,0,0,0)','paper_bgcolor' : 'rgba(0,0,0,0)'})\n",
    "            fig.update_layout(title_text=\"<b>COUNT PLOT<b> : {} \".format(fet), title_x=0.5)\n",
    "            fig.update_yaxes(title_text='<b>' + fet +'<b>')\n",
    "            fig.update_xaxes(title_text='<b>COUNT<b>')\n",
    "            iplot(fig)\n",
    "        else:\n",
    "            print(\"Invalid column datatype\") "
   ]
  },
  {
   "cell_type": "code",
   "execution_count": 35,
   "metadata": {},
   "outputs": [],
   "source": [
    "#%% Basic statistics for continuous column\n",
    "def basic_stats(df,fets):\n",
    "    if (df.isnull().sum().sum())>0:\n",
    "        print('Error. Data Contains Missing Values. Please Do Missing value treatment to do this step.')\n",
    "    else:\n",
    "        if ((df[fets].dtype=='int64') or (df[fets].dtype=='float64') or (df[fets].dtype=='int32') or (df[fets].dtype=='float32')):\n",
    "            #import pandas as pd\n",
    "            #from tabulate import tabulate\n",
    "            #from prettytable import PrettyTable\n",
    "            #from termcolor import cprint\n",
    "            #import statistics\n",
    "            #import scipy.stats\n",
    "            cprint('SUMMARY STATISTICS : ', attrs=['bold'])\n",
    "            print()\n",
    "            #fets=[input(\"Enter the column name\")]\n",
    "            features=fets\n",
    "            #features=(['5% quantile','95% quanrtile','skewness','kurtosis','variance','standard deviation'])\n",
    "            basic_stat=pd.DataFrame(columns=['features'])\n",
    "            basic_stat.loc['MAX']= df.max()\n",
    "            basic_stat.loc['MIN']= df.min()\n",
    "            basic_stat.loc['Range']=df[fets].max()-df[fets].min()\n",
    "            basic_stat.loc['skewness']= df[fets].skew()\n",
    "            basic_stat.loc['kurtosis']= df[fets].kurtosis()\n",
    "            basic_stat.loc['variance']= df[fets].var()\n",
    "            basic_stat.loc['standard deviation']= df[fets].std()\n",
    "            d=basic_stat\n",
    "            display(d)\n",
    "        else:\n",
    "            print(\"Invalid column datatype\")"
   ]
  },
  {
   "cell_type": "code",
   "execution_count": 36,
   "metadata": {},
   "outputs": [],
   "source": [
    "def percentile(df,fets):\n",
    "    if (df.isnull().sum().sum())>0:\n",
    "        print('Error. Data Contains Missing Values. Please Do Missing value treatment to do this step.')\n",
    "    else:\n",
    "        if ((df[fets].dtype=='int64') or (df[fets].dtype=='float64') or (df[fets].dtype=='int32') or (df[fets].dtype=='float32')):\n",
    "            #import pandas as pd\n",
    "            #from tabulate import tabulate\n",
    "            #from prettytable import PrettyTable\n",
    "            #from termcolor import cprint\n",
    "            #import statistics\n",
    "            cprint('Percentile Table : ', attrs=['bold'])\n",
    "            print()\n",
    "            #fets=[input(\"Enter the column name\")]\n",
    "            features=fets\n",
    "            percentile_table=pd.DataFrame(columns=['features'])\n",
    "            percentile_table.loc['5% quantile']=df[fets].quantile(0.05)\n",
    "            percentile_table.loc['10% quantile']=df[fets].quantile(0.1)\n",
    "            percentile_table.loc['20% quantile']=df[fets].quantile(0.2)\n",
    "            percentile_table.loc['30% quantile']=df[fets].quantile(0.3)\n",
    "            percentile_table.loc['40% quantile']=df[fets].quantile(0.4)\n",
    "            percentile_table.loc['50% quantile']=df[fets].quantile(0.5)\n",
    "            percentile_table.loc['60% quantile']=df[fets].quantile(0.6)\n",
    "            percentile_table.loc['70% quantile']=df[fets].quantile(0.7)\n",
    "            percentile_table.loc['80% quantile']=df[fets].quantile(0.8)\n",
    "            percentile_table.loc['90% quantile']=df[fets].quantile(0.9)\n",
    "            percentile_table.loc['95% quantile']=df[fets].quantile(0.95)\n",
    "            d=percentile_table\n",
    "            display(d)\n",
    "        else:\n",
    "            print(\"Invalid column datatype\") "
   ]
  },
  {
   "cell_type": "code",
   "execution_count": 37,
   "metadata": {},
   "outputs": [],
   "source": [
    "#%% Basic statistics for categorical column \n",
    "\n",
    "def basic_cat_stats(df,fets):\n",
    "    if (df.isnull().sum().sum())>0:\n",
    "        print('Error. Data Contains Missing Values. Please Do Missing value treatment to do this step.')\n",
    "    else:\n",
    "        if df[fets].dtype=='O':\n",
    "            #import pandas as pd\n",
    "            #from tabulate import tabulate\n",
    "            #from prettytable import PrettyTable\n",
    "            #from termcolor import cprint\n",
    "            #import statistics\n",
    "            #import scipy.stats\n",
    "            cprint('SUMMARY STATISTICS : ', attrs=['bold'])\n",
    "            print()\n",
    "            #fets=[input(\"Enter the column name\")]\n",
    "            features=fets\n",
    "            #features=(['5% quantile','95% quanrtile','skewness','kurtosis','variance','standard deviation'])\n",
    "            basic_stat=pd.DataFrame(columns=['features'])\n",
    "            basic_stat.loc['DATATYPE']= df.dtypes\n",
    "            basic_stat.loc['MISSING VALUES']= df.isna().sum()\n",
    "            basic_stat.loc['NUMBER OF ZEROS']=df.isin([0]).sum()\n",
    "            basic_stat.loc['COUNT']= df.count()\n",
    "            basic_stat.loc['UNIQUE']= df.nunique()\n",
    "            d=basic_stat\n",
    "            display(d)\n",
    "        else:\n",
    "            print(\"Invalid column datatype\")"
   ]
  },
  {
   "cell_type": "code",
   "execution_count": 17,
   "metadata": {},
   "outputs": [],
   "source": [
    "#%%Distribution plot\n",
    "def bdist_plot(df,fet):\n",
    "    #import pandas as pd\n",
    "    #import numpy as np\n",
    "    #df=pd.read_csv('D:\\Solytics\\Datasets\\scores.csv')\n",
    "    fets=list (df.columns)\n",
    "    numcol= list ()\n",
    "    for fet in fets:\n",
    "        if df[fet].dtype !='O':\n",
    "            numcol.append(fet)\n",
    "    print('CHOOSE 1 COLUMN FROM THE LIST:')\n",
    "    print('THE OPTIONS ARE:')\n",
    "    print(numcol)\n",
    "    ch=input('ENTER:')\n",
    "    import plotly.figure_factory as ff\n",
    "    hist_data=[df[ch]]\n",
    "    group_labels = [ch]\n",
    "    fig = ff.create_distplot(hist_data,group_labels,colors=['#32E0C4'])  #Change colours with palette\n",
    "                         #title='Distplot',\n",
    "                         #template='simple_white')marker=dict(color='#32E0C4')\n",
    "    fig['layout'].update(title='Distribution Plot: {}'.format(ch),title_x=0.5)\n",
    "    #fig.update_layout(title_text=\"<b>Distribution Plot<b> : {} \".format(fet), title_x=0.5)\n",
    "    fig.update_layout({'plot_bgcolor': 'rgba(0,0,0,0)','paper_bgcolor' : 'rgba(0,0,0,0)'})\n",
    "    #fig.update_xaxes(title_text='<b>' + fet +'<b>')\n",
    "    #fig.update_yaxes(title_text='<b>COUNT<b>')\n",
    "    fig.show()"
   ]
  },
  {
   "cell_type": "code",
   "execution_count": 2,
   "metadata": {},
   "outputs": [],
   "source": [
    "#%% pareto plot\n",
    "\n",
    "def pareto_cat(df,ch):\n",
    "  #import pandas as pd\n",
    "  #import numpy as np\n",
    "  #import plotly.graph_objects as go\n",
    "  #fets=list (df.columns)\n",
    "  #catcol=list ()\n",
    "  #for fet in fets:\n",
    "    #if df[fet].dtype =='O' :\n",
    "      #catcol.append(fet)\n",
    "  #print('CHOOSE 1 COLUMN FROM THE LIST:')\n",
    "  #print('THE OPTIONS ARE:')\n",
    "  #print(catcol)\n",
    "    if (df.isnull().sum().sum())>0:\n",
    "        print('Error. Data Contains Missing Values. Please Do Missing value treatment to do this step.')\n",
    "    else:\n",
    "        if ((df[ch].dtype=='O') and (df[ch].str.strip(alphabet).astype(bool).any()=='TRUE')):\n",
    "            #ch=input('ENTER:')\n",
    "            p=list(np.unique(df[ch].astype(str)))\n",
    "            freq=dict()\n",
    "            a=df[ch].value_counts()\n",
    "            for i in range(len(p)):\n",
    "                freq[p[i]]=a[i]\n",
    "            df1=pd.DataFrame.from_dict(freq,orient='index',columns=['Frequency'])\n",
    "            cum=list ()\n",
    "            s=0\n",
    "            whole=np.sum(df1['Frequency'])\n",
    "            for i in range(len(p)):\n",
    "                s=s+df1['Frequency'][p[i]]\n",
    "                per=(s/whole)*100\n",
    "                cum.append(per)\n",
    "            df1['Cumulative Frequency Percentage']=cum\n",
    "            trace1 = dict(type='bar',\n",
    "                x=p,\n",
    "                y=df1['Frequency'],\n",
    "                marker=dict(\n",
    "                    color='#32E0C4'\n",
    "                    ),\n",
    "                name=ch,\n",
    "                opacity=0.8\n",
    "                )\n",
    "            trace2 = dict(type='scatter',\n",
    "                x=p,\n",
    "                y=df1['Cumulative Frequency Percentage'],\n",
    "                marker=dict(\n",
    "                    color='#263238'\n",
    "                    ),\n",
    "                line=dict(\n",
    "                    color= '#263238', \n",
    "                    width= 1.5),\n",
    "                xaxis='x1', \n",
    "                yaxis='y2' \n",
    "                )\n",
    "            data = [trace1, trace2]\n",
    "            layout = go.Layout(\n",
    "      title='Pareto Analysis',\n",
    "      legend= dict(orientation=\"h\"),\n",
    "      yaxis=dict(\n",
    "          title='Frequency',\n",
    "          titlefont=dict(\n",
    "              color=\"#263238\"\n",
    "              )\n",
    "          ),\n",
    "          yaxis2=dict(\n",
    "              title='Cumulative %',\n",
    "              titlefont=dict(\n",
    "                  color='#263238'\n",
    "                  ),\n",
    "                  range=[0,105],\n",
    "                  overlaying='y',\n",
    "                  anchor='x',\n",
    "                  side='right'\n",
    "                  )\n",
    "          )\n",
    "            fig = go.Figure(data=data, layout=layout)\n",
    "            fig.update_layout({'plot_bgcolor': 'rgba(0,0,0,0)','paper_bgcolor' : 'rgba(0,0,0,0)'})\n",
    "            fig.show() "
   ]
  },
  {
   "cell_type": "code",
   "execution_count": null,
   "metadata": {},
   "outputs": [],
   "source": []
  },
  {
   "cell_type": "code",
   "execution_count": null,
   "metadata": {},
   "outputs": [],
   "source": []
  },
  {
   "cell_type": "code",
   "execution_count": null,
   "metadata": {},
   "outputs": [],
   "source": []
  },
  {
   "cell_type": "code",
   "execution_count": null,
   "metadata": {},
   "outputs": [],
   "source": []
  },
  {
   "cell_type": "code",
   "execution_count": null,
   "metadata": {},
   "outputs": [],
   "source": []
  },
  {
   "cell_type": "code",
   "execution_count": 3,
   "metadata": {},
   "outputs": [],
   "source": [
    "import pandas as pd\n",
    "import numpy as np\n",
    "df=pd.read_csv(\"D:\\Solytics\\EDA\\Churn_Modelling.csv\")"
   ]
  },
  {
   "cell_type": "code",
   "execution_count": 6,
   "metadata": {},
   "outputs": [],
   "source": [
    "pareto_cat(df,\"Gender\")"
   ]
  },
  {
   "cell_type": "code",
   "execution_count": 34,
   "metadata": {},
   "outputs": [
    {
     "data": {
      "text/plain": [
       "False"
      ]
     },
     "execution_count": 34,
     "metadata": {},
     "output_type": "execute_result"
    }
   ],
   "source": [
    "df[\"Surname\"].str.strip(alphabet).astype(bool).any()=='TRUE'"
   ]
  },
  {
   "cell_type": "code",
   "execution_count": 29,
   "metadata": {},
   "outputs": [
    {
     "data": {
      "text/plain": [
       "dtype('O')"
      ]
     },
     "execution_count": 29,
     "metadata": {},
     "output_type": "execute_result"
    }
   ],
   "source": [
    "df[\"Surname\"].dtype"
   ]
  },
  {
   "cell_type": "code",
   "execution_count": 13,
   "metadata": {},
   "outputs": [
    {
     "data": {
      "text/plain": [
       "False"
      ]
     },
     "execution_count": 13,
     "metadata": {},
     "output_type": "execute_result"
    }
   ],
   "source": [
    "a=df[\"Geography\"].str.isalpha().any()=='True'\n",
    "a"
   ]
  },
  {
   "cell_type": "code",
   "execution_count": 15,
   "metadata": {},
   "outputs": [
    {
     "data": {
      "text/plain": [
       "False"
      ]
     },
     "execution_count": 15,
     "metadata": {},
     "output_type": "execute_result"
    }
   ],
   "source": [
    "a=='False'"
   ]
  },
  {
   "cell_type": "code",
   "execution_count": null,
   "metadata": {},
   "outputs": [],
   "source": []
  }
 ],
 "metadata": {
  "kernelspec": {
   "display_name": "Python 3",
   "language": "python",
   "name": "python3"
  },
  "language_info": {
   "codemirror_mode": {
    "name": "ipython",
    "version": 3
   },
   "file_extension": ".py",
   "mimetype": "text/x-python",
   "name": "python",
   "nbconvert_exporter": "python",
   "pygments_lexer": "ipython3",
   "version": "3.8.3"
  }
 },
 "nbformat": 4,
 "nbformat_minor": 4
}
