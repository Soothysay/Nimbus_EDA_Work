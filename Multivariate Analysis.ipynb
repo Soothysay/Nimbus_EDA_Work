{
 "cells": [
  {
   "cell_type": "code",
   "execution_count": 1,
   "metadata": {},
   "outputs": [],
   "source": [
    "import pandas as pd\n",
    "import plotly.graph_objs as go\n",
    "from plotly.offline import init_notebook_mode, iplot\n",
    "import plotly.express as px"
   ]
  },
  {
   "cell_type": "code",
   "execution_count": 2,
   "metadata": {},
   "outputs": [],
   "source": [
    "def correlation(df):\n",
    "    #import plotly.plotly as py\n",
    "    #import plotly.graph_objs as go\n",
    "\n",
    "    # these two lines are what allow your code to show up in a notebook\n",
    "    #from plotly.offline import init_notebook_mode, iplot\n",
    "    #init_notebook_mode()\n",
    "    if (df.isnull().sum().sum())>0:\n",
    "        print('Error. Data Contains Missing Values. Please Do Missing value treatment to do this step.')\n",
    "    else:\n",
    "        fets=input('ENTER THE COLUMNS (COMMA SEPARATED) : ') ##Column names to be selected from the dataset which are continuous only \n",
    "        features=fets.split(\",\")\n",
    "    \n",
    "        corr = df[features].corr()\n",
    "\n",
    "        trace = go.Heatmap(z=corr.values,\n",
    "                  x=corr.index.values,\n",
    "                  y=corr.columns.values,colorscale='tealgrn')\n",
    "        data=[trace]\n",
    "    \n",
    "        fig = go.Figure(data=data)\n",
    "        #fig.update_layout(title_text=\"Correlation heat map \") \n",
    "        fig.update_layout(title_text=\"<b>Heat Map<b>\", title_x=0.5)\n",
    "        iplot(fig)\n",
    "        #py.iplot(data, filename='basic-heatmap')"
   ]
  },
  {
   "cell_type": "code",
   "execution_count": 3,
   "metadata": {},
   "outputs": [],
   "source": [
    "def nd_scatter_plot(df):\n",
    "    #import plotly.express as px\n",
    "    #from plotly.offline import iplot\n",
    "    if (df.isnull().sum().sum())>0:\n",
    "        print('Error. Data Contains Missing Values. Please Do Missing value treatment to do this step.')\n",
    "    else:\n",
    "        fets=input('ENTER THE COLUMNS TO DROP (COMMA SEPARATED) : ') ## Only continuous columns needs to be selected\n",
    "        fets=fets.split(\",\")\n",
    "        target=input(\"enter target variable\") ## Dependent variable should be selected\n",
    "        #colors=['#32E0C4','#0D7377','#0e918c']\n",
    "        fig = px.scatter_3d(df, x=fets[0], y=fets[1], z=fets[2],color=df[target])\n",
    "        fig.update_layout(title_text=\"<b>3d Scatter plot<b>\", title_x=0.5)\n",
    "        fig.update_layout({'plot_bgcolor': 'rgba(0,0,0,0)','paper_bgcolor' : 'rgba(0,0,0,0)'})\n",
    "        fig.show()\n",
    "        #iplot(fig)\n",
    "##here target variable and 3 continuous columns needs to be selected. "
   ]
  },
  {
   "cell_type": "code",
   "execution_count": 4,
   "metadata": {},
   "outputs": [],
   "source": []
  },
  {
   "cell_type": "code",
   "execution_count": null,
   "metadata": {},
   "outputs": [],
   "source": []
  },
  {
   "cell_type": "code",
   "execution_count": null,
   "metadata": {},
   "outputs": [],
   "source": []
  },
  {
   "cell_type": "code",
   "execution_count": null,
   "metadata": {},
   "outputs": [],
   "source": []
  },
  {
   "cell_type": "code",
   "execution_count": null,
   "metadata": {},
   "outputs": [],
   "source": []
  },
  {
   "cell_type": "code",
   "execution_count": null,
   "metadata": {},
   "outputs": [],
   "source": []
  },
  {
   "cell_type": "code",
   "execution_count": null,
   "metadata": {},
   "outputs": [],
   "source": []
  },
  {
   "cell_type": "code",
   "execution_count": null,
   "metadata": {},
   "outputs": [],
   "source": []
  },
  {
   "cell_type": "code",
   "execution_count": null,
   "metadata": {},
   "outputs": [],
   "source": []
  }
 ],
 "metadata": {
  "kernelspec": {
   "display_name": "Python 3",
   "language": "python",
   "name": "python3"
  },
  "language_info": {
   "codemirror_mode": {
    "name": "ipython",
    "version": 3
   },
   "file_extension": ".py",
   "mimetype": "text/x-python",
   "name": "python",
   "nbconvert_exporter": "python",
   "pygments_lexer": "ipython3",
   "version": "3.8.3"
  }
 },
 "nbformat": 4,
 "nbformat_minor": 4
}
